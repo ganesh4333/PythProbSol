{
 "cells": [
  {
   "cell_type": "code",
   "execution_count": null,
   "id": "0f961fe7",
   "metadata": {},
   "outputs": [],
   "source": [
    "##Problem\n",
    "##In Chefland, a tennis game involves 44 referees.\n",
    "\n",
    "n=int(input())\n",
    "for i in range(n):\n",
    "    a,b,c,d=list(map(int, input().split()))\n",
    "    sum=a+b+c+d\n",
    "    if sum<1:\n",
    "        print(\"IN\")\n",
    "    else:\n",
    "        print(\"OUT\")"
   ]
  },
  {
   "cell_type": "code",
   "execution_count": null,
   "id": "361a0eb0",
   "metadata": {},
   "outputs": [],
   "source": []
  }
 ],
 "metadata": {
  "kernelspec": {
   "display_name": "Python 3 (ipykernel)",
   "language": "python",
   "name": "python3"
  },
  "language_info": {
   "codemirror_mode": {
    "name": "ipython",
    "version": 3
   },
   "file_extension": ".py",
   "mimetype": "text/x-python",
   "name": "python",
   "nbconvert_exporter": "python",
   "pygments_lexer": "ipython3",
   "version": "3.10.5"
  }
 },
 "nbformat": 4,
 "nbformat_minor": 5
}
